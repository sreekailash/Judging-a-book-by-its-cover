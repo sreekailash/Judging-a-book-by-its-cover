{
 "cells": [
  {
   "cell_type": "code",
   "execution_count": 282,
   "metadata": {},
   "outputs": [],
   "source": [
    "import time\n",
    "import random\n",
    "import bs4 as bs\n",
    "import pandas as pd \n",
    "from selenium import webdriver\n",
    "from selenium.webdriver.chrome.options import Options\n",
    "from selenium.webdriver.support.ui import WebDriverWait\n",
    "from selenium.webdriver.support import expected_conditions as EC\n",
    "from selenium.webdriver.common.by import By\n",
    "from selenium.webdriver.common.keys import Keys\n",
    "chrome_options = Options()\n",
    "#chrome_options.add_argument('--headless') #If you use this option you will get Access Denied comment it out to access the site\n",
    "chrome_options.add_argument('--no-sandbox')\n",
    "chrome_options.add_argument('--disable-dev-shm-usage')\n"
   ]
  },
  {
   "cell_type": "code",
   "execution_count": null,
   "metadata": {},
   "outputs": [],
   "source": [
    "genres_list = ['business', 'mystery', 'fiction', 'fantasy']"
   ]
  },
  {
   "cell_type": "code",
   "execution_count": 284,
   "metadata": {
    "scrolled": true
   },
   "outputs": [
    {
     "name": "stderr",
     "output_type": "stream",
     "text": [
      "/Users/sreekailash/opt/anaconda3/lib/python3.7/site-packages/ipykernel_launcher.py:2: DeprecationWarning: executable_path has been deprecated, please pass in a Service object\n",
      "  \n"
     ]
    },
    {
     "name": "stdout",
     "output_type": "stream",
     "text": [
      "Sign in\n"
     ]
    }
   ],
   "source": [
    "path=\"/Users/sreekailash/Documents/MSBAIM/Fall Module 2/MGMT 590 Web data/7. Browser Automation/chromedriver\"\n",
    "driver = webdriver.Chrome(path, options = chrome_options)\n",
    "\n",
    "driver.get('https://www.goodreads.com/user/sign_in')\n",
    "print(driver.title)\n",
    "time.sleep(3)"
   ]
  },
  {
   "cell_type": "code",
   "execution_count": 285,
   "metadata": {},
   "outputs": [
    {
     "name": "stderr",
     "output_type": "stream",
     "text": [
      "/Users/sreekailash/opt/anaconda3/lib/python3.7/site-packages/ipykernel_launcher.py:3: DeprecationWarning: find_element_by_* commands are deprecated. Please use find_element() instead\n",
      "  This is separate from the ipykernel package so we can avoid doing imports until\n"
     ]
    },
    {
     "name": "stdout",
     "output_type": "stream",
     "text": [
      "Key in password10111995\n"
     ]
    },
    {
     "name": "stderr",
     "output_type": "stream",
     "text": [
      "/Users/sreekailash/opt/anaconda3/lib/python3.7/site-packages/ipykernel_launcher.py:5: DeprecationWarning: find_element_by_* commands are deprecated. Please use find_element() instead\n",
      "  \"\"\"\n",
      "/Users/sreekailash/opt/anaconda3/lib/python3.7/site-packages/ipykernel_launcher.py:7: DeprecationWarning: find_element_by_* commands are deprecated. Please use find_element() instead\n",
      "  import sys\n"
     ]
    }
   ],
   "source": [
    "#Signing in\n",
    "\n",
    "driver.find_element_by_id('user_email').send_keys('rsreekailash95@gmail.com')\n",
    "password = input('Key in password')\n",
    "driver.find_element_by_id('user_password').send_keys(password)\n",
    "time.sleep(1)\n",
    "driver.find_element_by_xpath('//*[@value=\"Sign in\"]').click()"
   ]
  },
  {
   "cell_type": "code",
   "execution_count": 339,
   "metadata": {},
   "outputs": [],
   "source": [
    "title = []\n",
    "author = []\n",
    "rating = []\n",
    "num_rating = []\n",
    "num_reviews = []\n",
    "description = []\n",
    "num_pages = []\n",
    "book_cover_url = []\n",
    "ISBN = []\n",
    "num_to_read = []\n",
    "amazon_price = []\n"
   ]
  },
  {
   "cell_type": "code",
   "execution_count": 346,
   "metadata": {},
   "outputs": [],
   "source": [
    "driver.get('https://www.goodreads.com/list/show/1.Best_Books_Ever?page=1')"
   ]
  },
  {
   "cell_type": "code",
   "execution_count": 352,
   "metadata": {},
   "outputs": [
    {
     "data": {
      "text/plain": [
       "100"
      ]
     },
     "execution_count": 352,
     "metadata": {},
     "output_type": "execute_result"
    }
   ],
   "source": [
    "int(pages[-2].text)"
   ]
  },
  {
   "cell_type": "code",
   "execution_count": 351,
   "metadata": {},
   "outputs": [
    {
     "name": "stderr",
     "output_type": "stream",
     "text": [
      "/Users/sreekailash/opt/anaconda3/lib/python3.7/site-packages/ipykernel_launcher.py:2: DeprecationWarning: find_elements_by_* commands are deprecated. Please use find_elements() instead\n",
      "  \n"
     ]
    },
    {
     "data": {
      "text/plain": [
       "[<selenium.webdriver.remote.webelement.WebElement (session=\"04920b8b8c290a77b1dc1ba4701c2d74\", element=\"bb9c0458-a17c-4956-8bc0-d60902677b17\")>,\n",
       " <selenium.webdriver.remote.webelement.WebElement (session=\"04920b8b8c290a77b1dc1ba4701c2d74\", element=\"e9cf6779-392c-43de-8faf-5f35fb3382ae\")>,\n",
       " <selenium.webdriver.remote.webelement.WebElement (session=\"04920b8b8c290a77b1dc1ba4701c2d74\", element=\"86d09cfb-e239-4947-9d8f-475f6411e4cb\")>,\n",
       " <selenium.webdriver.remote.webelement.WebElement (session=\"04920b8b8c290a77b1dc1ba4701c2d74\", element=\"af5799f2-4190-4c5d-92b5-76a39fb68c47\")>,\n",
       " <selenium.webdriver.remote.webelement.WebElement (session=\"04920b8b8c290a77b1dc1ba4701c2d74\", element=\"cfafd202-b281-49ec-9730-8991160a45ec\")>,\n",
       " <selenium.webdriver.remote.webelement.WebElement (session=\"04920b8b8c290a77b1dc1ba4701c2d74\", element=\"3fd4f187-349f-40b5-a0db-a48a8dd2c684\")>,\n",
       " <selenium.webdriver.remote.webelement.WebElement (session=\"04920b8b8c290a77b1dc1ba4701c2d74\", element=\"8012bd23-2c2f-4324-864e-0659b9c986e2\")>,\n",
       " <selenium.webdriver.remote.webelement.WebElement (session=\"04920b8b8c290a77b1dc1ba4701c2d74\", element=\"8c37ac4d-46f8-41b4-93a9-1a51a4ff3472\")>,\n",
       " <selenium.webdriver.remote.webelement.WebElement (session=\"04920b8b8c290a77b1dc1ba4701c2d74\", element=\"1f70e44f-77b2-4d7b-b35a-3e5cf84056d3\")>,\n",
       " <selenium.webdriver.remote.webelement.WebElement (session=\"04920b8b8c290a77b1dc1ba4701c2d74\", element=\"b9bc7204-514b-499b-b1ca-d7f75ffc99a0\")>,\n",
       " <selenium.webdriver.remote.webelement.WebElement (session=\"04920b8b8c290a77b1dc1ba4701c2d74\", element=\"66cc67b9-2ab2-444b-af34-83787df3152f\")>]"
      ]
     },
     "execution_count": 351,
     "metadata": {},
     "output_type": "execute_result"
    }
   ],
   "source": [
    " pages = driver.find_elements_by_xpath(\n",
    "            '//div[@class=\"pagination\"]//a[contains(@href, \"/list/show\")]'\n",
    "        )\n",
    "pages\n",
    " "
   ]
  },
  {
   "cell_type": "code",
   "execution_count": 354,
   "metadata": {},
   "outputs": [
    {
     "name": "stdout",
     "output_type": "stream",
     "text": [
      "https://www.goodreads.com/shelf/show/business?page=1\n",
      "https://www.goodreads.com/shelf/show/business?page=1\n"
     ]
    },
    {
     "ename": "AttributeError",
     "evalue": "'NoneType' object has no attribute 'parent'",
     "output_type": "error",
     "traceback": [
      "\u001b[0;31m---------------------------------------------------------------------------\u001b[0m",
      "\u001b[0;31mAttributeError\u001b[0m                            Traceback (most recent call last)",
      "\u001b[0;32m<ipython-input-354-afef0cd33ef3>\u001b[0m in \u001b[0;36m<module>\u001b[0;34m\u001b[0m\n\u001b[1;32m     57\u001b[0m         \u001b[0mhtml\u001b[0m \u001b[0;34m=\u001b[0m \u001b[0mdriver\u001b[0m\u001b[0;34m.\u001b[0m\u001b[0mpage_source\u001b[0m\u001b[0;34m\u001b[0m\u001b[0;34m\u001b[0m\u001b[0m\n\u001b[1;32m     58\u001b[0m         \u001b[0msoup\u001b[0m \u001b[0;34m=\u001b[0m \u001b[0mbs\u001b[0m\u001b[0;34m.\u001b[0m\u001b[0mBeautifulSoup\u001b[0m\u001b[0;34m(\u001b[0m\u001b[0mhtml\u001b[0m\u001b[0;34m,\u001b[0m \u001b[0;34m'html.parser'\u001b[0m\u001b[0;34m)\u001b[0m\u001b[0;34m\u001b[0m\u001b[0;34m\u001b[0m\u001b[0m\n\u001b[0;32m---> 59\u001b[0;31m         \u001b[0mnum_to_read\u001b[0m\u001b[0;34m.\u001b[0m\u001b[0mappend\u001b[0m\u001b[0;34m(\u001b[0m\u001b[0msoup\u001b[0m\u001b[0;34m.\u001b[0m\u001b[0mfind\u001b[0m\u001b[0;34m(\u001b[0m\u001b[0mtext\u001b[0m \u001b[0;34m=\u001b[0m \u001b[0;34m'to-read'\u001b[0m\u001b[0;34m)\u001b[0m\u001b[0;34m.\u001b[0m\u001b[0mparent\u001b[0m\u001b[0;34m.\u001b[0m\u001b[0mparent\u001b[0m\u001b[0;34m.\u001b[0m\u001b[0mparent\u001b[0m\u001b[0;34m.\u001b[0m\u001b[0mget_text\u001b[0m\u001b[0;34m(\u001b[0m\u001b[0;34m)\u001b[0m\u001b[0;34m.\u001b[0m\u001b[0mstrip\u001b[0m\u001b[0;34m(\u001b[0m\u001b[0;34m)\u001b[0m\u001b[0;34m.\u001b[0m\u001b[0msplit\u001b[0m\u001b[0;34m(\u001b[0m\u001b[0;34m)\u001b[0m\u001b[0;34m[\u001b[0m\u001b[0;36m1\u001b[0m\u001b[0;34m]\u001b[0m\u001b[0;34m)\u001b[0m\u001b[0;34m\u001b[0m\u001b[0;34m\u001b[0m\u001b[0m\n\u001b[0m\u001b[1;32m     60\u001b[0m \u001b[0;34m\u001b[0m\u001b[0m\n\u001b[1;32m     61\u001b[0m         \u001b[0mdriver\u001b[0m\u001b[0;34m.\u001b[0m\u001b[0mget\u001b[0m\u001b[0;34m(\u001b[0m\u001b[0mb_url\u001b[0m\u001b[0;34m)\u001b[0m\u001b[0;34m\u001b[0m\u001b[0;34m\u001b[0m\u001b[0m\n",
      "\u001b[0;31mAttributeError\u001b[0m: 'NoneType' object has no attribute 'parent'"
     ]
    }
   ],
   "source": [
    "list_url = \"https://www.goodreads.com/list/show/1.Best_Books_Ever\"\n",
    "\n",
    "page = 1\n",
    "\n",
    "while True:\n",
    "\n",
    "\n",
    "    url  = str('https://www.goodreads.com/shelf/show/') + str(val) + str(\"?page=\") + str(page) #URL of all the books in the genre\n",
    "    print(url)\n",
    "\n",
    "    driver.get(url) \n",
    "    time.sleep(random.randint(1,5))\n",
    "\n",
    "    #Getting all the book urls in the page\n",
    "    html = driver.page_source     \n",
    "    soup = bs.BeautifulSoup(html, 'html.parser')\n",
    "\n",
    "    book_urls = [str('https://www.goodreads.com') + str(i['href'] + str('?ref=bk_bet_out')) \n",
    "             for i in soup.find_all('a', class_ = 'bookTitle')]\n",
    "\n",
    "    if len(book_urls) == 0:\n",
    "        break\n",
    "\n",
    "    #Navigate through each url\n",
    "\n",
    "    for b_url in book_urls:\n",
    "        driver.get(b_url)\n",
    "\n",
    "        time.sleep(random.randint(1,5))\n",
    "\n",
    "        html = driver.page_source\n",
    "        soup = bs.BeautifulSoup(html, 'html.parser')\n",
    "\n",
    "        title.append(soup.find('h1', id = 'bookTitle').get_text().strip())\n",
    "\n",
    "        auth_html = soup.find('div', id = 'bookAuthors')\n",
    "        author.append('|'. join([i.get_text() \n",
    "                         for i in auth_html.find_all('a', class_ = 'authorName')]))\n",
    "\n",
    "\n",
    "        rating.append(soup.find('span', itemprop = 'ratingValue').get_text().strip())\n",
    "        num_rating.append(soup.find('meta', itemprop = 'ratingCount')['content'])\n",
    "        num_reviews.append(soup.find('meta', itemprop = 'reviewCount')['content'])\n",
    "        description.append(soup.find_all('div', id = 'description')[0].get_text())\n",
    "        num_pages.append(soup.find('span', itemprop = 'numberOfPages').get_text().replace('pages','').strip())\n",
    "\n",
    "        ISBN_val = soup.find('div', id = 'bookDataBox').find_all('div', class_ = 'infoBoxRowItem')[1].get_text().strip().split()[0]\n",
    "\n",
    "        if ISBN_val.isdigit():\n",
    "            ISBN.append(ISBN_val)\n",
    "        else:\n",
    "            ISBN.append(None)\n",
    "\n",
    "        shelves_url = str('https://www.goodreads.com') + str(soup.find(text = 'See top shelves…').parent['href'])\n",
    "        driver.get(shelves_url)\n",
    "\n",
    "        html = driver.page_source\n",
    "        soup = bs.BeautifulSoup(html, 'html.parser')\n",
    "        num_to_read.append(soup.find(text = 'to-read').parent.parent.parent.get_text().strip().split()[1])\n",
    "\n",
    "        driver.get(b_url)\n",
    "        html = driver.page_source\n",
    "        soup = bs.BeautifulSoup(html, 'html.parser')\n",
    "\n",
    "        book_cover_url.append(soup.find('img', id = 'coverImage')['src'])\n",
    "\n",
    "        amazon_url = str('https://www.goodreads.com') + str(soup.find(text = 'Amazon').parent['href'])\n",
    "        driver.get(amazon_url)\n",
    "\n",
    "        html = driver.page_source\n",
    "        soup = bs.BeautifulSoup(html, 'html.parser')\n",
    "\n",
    "        val1 = None\n",
    "        val2 = None\n",
    "\n",
    "        try:\n",
    "            val1 = soup.find('span', class_ = 'a-price a-text-price header-price a-size-base a-text-normal').find_all('span')[0].get_text()\n",
    "        except:\n",
    "            try:\n",
    "                val2 = soup.find_all(text = \"Paperback\")[0].find_next().find('span', class_ = 'a-price').find('span', class_ = 'a-offscreen').get_text()\n",
    "            except:\n",
    "                try:\n",
    "                    val2 = soup.find_all(text = \"Paperback\")[1].find_next().find('span', class_ = 'a-price').find('span', class_ = 'a-offscreen').get_text()\n",
    "                except:\n",
    "                    try:\n",
    "                        val2 = soup.find_all(text = \"Paperback\")[2].find_next().find('span', class_ = 'a-price').find('span', class_ = 'a-offscreen').get_text()\n",
    "                    except:\n",
    "                        try:\n",
    "                            val1 = soup.find('span', class_ = 'a-size-base a-color-price offer-price a-text-normal').find_all('span')[0].get_text()\n",
    "                        except:\n",
    "                            va11 = \"NA\"\n",
    "\n",
    "        if val1 == None:\n",
    "            amazon_price.append(val2)\n",
    "        else:\n",
    "            amazon_price.append(val1)\n",
    "\n"
   ]
  },
  {
   "cell_type": "code",
   "execution_count": 341,
   "metadata": {},
   "outputs": [
    {
     "data": {
      "text/html": [
       "<div>\n",
       "<style scoped>\n",
       "    .dataframe tbody tr th:only-of-type {\n",
       "        vertical-align: middle;\n",
       "    }\n",
       "\n",
       "    .dataframe tbody tr th {\n",
       "        vertical-align: top;\n",
       "    }\n",
       "\n",
       "    .dataframe thead th {\n",
       "        text-align: right;\n",
       "    }\n",
       "</style>\n",
       "<table border=\"1\" class=\"dataframe\">\n",
       "  <thead>\n",
       "    <tr style=\"text-align: right;\">\n",
       "      <th></th>\n",
       "      <th>Title</th>\n",
       "      <th>Author</th>\n",
       "      <th>Rating</th>\n",
       "      <th>Number of Ratings</th>\n",
       "      <th>Number of Reviews</th>\n",
       "      <th>Description</th>\n",
       "      <th>Number of pages</th>\n",
       "      <th>Cover URL</th>\n",
       "      <th>ISBN</th>\n",
       "      <th>To Read count</th>\n",
       "      <th>Price</th>\n",
       "    </tr>\n",
       "  </thead>\n",
       "  <tbody>\n",
       "    <tr>\n",
       "      <th>0</th>\n",
       "      <td>The Lean Startup: How Today's Entrepreneurs Us...</td>\n",
       "      <td>Eric Ries</td>\n",
       "      <td>4.10</td>\n",
       "      <td>263830</td>\n",
       "      <td>3750</td>\n",
       "      <td>\\nMost startups fail. But many of those failur...</td>\n",
       "      <td>299</td>\n",
       "      <td>https://i.gr-assets.com/images/S/compressed.ph...</td>\n",
       "      <td>0307887898</td>\n",
       "      <td>371,884</td>\n",
       "      <td>$14.59</td>\n",
       "    </tr>\n",
       "    <tr>\n",
       "      <th>1</th>\n",
       "      <td>Zero to One: Notes on Startups, or How to Buil...</td>\n",
       "      <td>Peter Thiel|Blake  Masters</td>\n",
       "      <td>4.17</td>\n",
       "      <td>254957</td>\n",
       "      <td>7035</td>\n",
       "      <td>\\nIf you want to build a better future, you mu...</td>\n",
       "      <td>195</td>\n",
       "      <td>https://i.gr-assets.com/images/S/compressed.ph...</td>\n",
       "      <td>0804139296</td>\n",
       "      <td>399,425</td>\n",
       "      <td>$14.99</td>\n",
       "    </tr>\n",
       "    <tr>\n",
       "      <th>2</th>\n",
       "      <td>How to Win Friends and Influence People</td>\n",
       "      <td>Dale Carnegie|ریحانه جعفری|پروین قائمی</td>\n",
       "      <td>4.21</td>\n",
       "      <td>751304</td>\n",
       "      <td>18513</td>\n",
       "      <td>\\nISBN 9780671723651 moved to this edition.You...</td>\n",
       "      <td>288</td>\n",
       "      <td>https://i.gr-assets.com/images/S/compressed.ph...</td>\n",
       "      <td>None</td>\n",
       "      <td>825,628</td>\n",
       "      <td>$10.99</td>\n",
       "    </tr>\n",
       "    <tr>\n",
       "      <th>3</th>\n",
       "      <td>The 4-Hour Workweek</td>\n",
       "      <td>Timothy Ferriss</td>\n",
       "      <td>3.91</td>\n",
       "      <td>237948</td>\n",
       "      <td>7705</td>\n",
       "      <td>\\nWhat do you do? Tim Ferriss has trouble answ...</td>\n",
       "      <td>308</td>\n",
       "      <td>https://i.gr-assets.com/images/S/compressed.ph...</td>\n",
       "      <td>0307353133</td>\n",
       "      <td>353,933</td>\n",
       "      <td>$17.17</td>\n",
       "    </tr>\n",
       "    <tr>\n",
       "      <th>4</th>\n",
       "      <td>The 7 Habits of Highly Effective People: Power...</td>\n",
       "      <td>Stephen R. Covey|Jim Collins</td>\n",
       "      <td>4.13</td>\n",
       "      <td>615075</td>\n",
       "      <td>12058</td>\n",
       "      <td>\\nWhen Stephen Covey first released The Seven ...</td>\n",
       "      <td>372</td>\n",
       "      <td>https://i.gr-assets.com/images/S/compressed.ph...</td>\n",
       "      <td>0743269519</td>\n",
       "      <td>675,584</td>\n",
       "      <td>$17.95</td>\n",
       "    </tr>\n",
       "    <tr>\n",
       "      <th>5</th>\n",
       "      <td>The Tipping Point: How Little Things Can Make ...</td>\n",
       "      <td>Malcolm Gladwell|מלקולם גלדוול|עפרה אביגד</td>\n",
       "      <td>3.98</td>\n",
       "      <td>747042</td>\n",
       "      <td>14558</td>\n",
       "      <td>\\nAn alternate cover edition exists here.The t...</td>\n",
       "      <td>301</td>\n",
       "      <td>https://i.gr-assets.com/images/S/compressed.ph...</td>\n",
       "      <td>0316346624</td>\n",
       "      <td>623,070</td>\n",
       "      <td>$9.99</td>\n",
       "    </tr>\n",
       "    <tr>\n",
       "      <th>6</th>\n",
       "      <td>Rework</td>\n",
       "      <td>Jason Fried|David Heinemeier Hansson</td>\n",
       "      <td>3.96</td>\n",
       "      <td>151665</td>\n",
       "      <td>4440</td>\n",
       "      <td>\\nMost business books give you the same old ad...</td>\n",
       "      <td>279</td>\n",
       "      <td>https://i.gr-assets.com/images/S/compressed.ph...</td>\n",
       "      <td>0307463745</td>\n",
       "      <td>207,543</td>\n",
       "      <td>$13.49</td>\n",
       "    </tr>\n",
       "    <tr>\n",
       "      <th>7</th>\n",
       "      <td>Start with Why: How Great Leaders Inspire Ever...</td>\n",
       "      <td>Simon Sinek</td>\n",
       "      <td>4.08</td>\n",
       "      <td>160885</td>\n",
       "      <td>7506</td>\n",
       "      <td>\\nWhy do you do what you do?Why are some peopl...</td>\n",
       "      <td>256</td>\n",
       "      <td>https://i.gr-assets.com/images/S/compressed.ph...</td>\n",
       "      <td>1591842808</td>\n",
       "      <td>293,751</td>\n",
       "      <td>$16.19</td>\n",
       "    </tr>\n",
       "    <tr>\n",
       "      <th>8</th>\n",
       "      <td>The Hard Thing About Hard Things: Building a B...</td>\n",
       "      <td>Ben Horowitz</td>\n",
       "      <td>4.23</td>\n",
       "      <td>71336</td>\n",
       "      <td>3286</td>\n",
       "      <td>\\nA lot of people talk about how great it is t...</td>\n",
       "      <td>304</td>\n",
       "      <td>https://i.gr-assets.com/images/S/compressed.ph...</td>\n",
       "      <td>0062273205</td>\n",
       "      <td>151,511</td>\n",
       "      <td>$14.99</td>\n",
       "    </tr>\n",
       "  </tbody>\n",
       "</table>\n",
       "</div>"
      ],
      "text/plain": [
       "                                               Title  \\\n",
       "0  The Lean Startup: How Today's Entrepreneurs Us...   \n",
       "1  Zero to One: Notes on Startups, or How to Buil...   \n",
       "2            How to Win Friends and Influence People   \n",
       "3                                The 4-Hour Workweek   \n",
       "4  The 7 Habits of Highly Effective People: Power...   \n",
       "5  The Tipping Point: How Little Things Can Make ...   \n",
       "6                                             Rework   \n",
       "7  Start with Why: How Great Leaders Inspire Ever...   \n",
       "8  The Hard Thing About Hard Things: Building a B...   \n",
       "\n",
       "                                      Author Rating Number of Ratings  \\\n",
       "0                                  Eric Ries   4.10            263830   \n",
       "1                 Peter Thiel|Blake  Masters   4.17            254957   \n",
       "2     Dale Carnegie|ریحانه جعفری|پروین قائمی   4.21            751304   \n",
       "3                            Timothy Ferriss   3.91            237948   \n",
       "4               Stephen R. Covey|Jim Collins   4.13            615075   \n",
       "5  Malcolm Gladwell|מלקולם גלדוול|עפרה אביגד   3.98            747042   \n",
       "6       Jason Fried|David Heinemeier Hansson   3.96            151665   \n",
       "7                                Simon Sinek   4.08            160885   \n",
       "8                               Ben Horowitz   4.23             71336   \n",
       "\n",
       "  Number of Reviews                                        Description  \\\n",
       "0              3750  \\nMost startups fail. But many of those failur...   \n",
       "1              7035  \\nIf you want to build a better future, you mu...   \n",
       "2             18513  \\nISBN 9780671723651 moved to this edition.You...   \n",
       "3              7705  \\nWhat do you do? Tim Ferriss has trouble answ...   \n",
       "4             12058  \\nWhen Stephen Covey first released The Seven ...   \n",
       "5             14558  \\nAn alternate cover edition exists here.The t...   \n",
       "6              4440  \\nMost business books give you the same old ad...   \n",
       "7              7506  \\nWhy do you do what you do?Why are some peopl...   \n",
       "8              3286  \\nA lot of people talk about how great it is t...   \n",
       "\n",
       "  Number of pages                                          Cover URL  \\\n",
       "0             299  https://i.gr-assets.com/images/S/compressed.ph...   \n",
       "1             195  https://i.gr-assets.com/images/S/compressed.ph...   \n",
       "2             288  https://i.gr-assets.com/images/S/compressed.ph...   \n",
       "3             308  https://i.gr-assets.com/images/S/compressed.ph...   \n",
       "4             372  https://i.gr-assets.com/images/S/compressed.ph...   \n",
       "5             301  https://i.gr-assets.com/images/S/compressed.ph...   \n",
       "6             279  https://i.gr-assets.com/images/S/compressed.ph...   \n",
       "7             256  https://i.gr-assets.com/images/S/compressed.ph...   \n",
       "8             304  https://i.gr-assets.com/images/S/compressed.ph...   \n",
       "\n",
       "         ISBN To Read count   Price  \n",
       "0  0307887898       371,884  $14.59  \n",
       "1  0804139296       399,425  $14.99  \n",
       "2        None       825,628  $10.99  \n",
       "3  0307353133       353,933  $17.17  \n",
       "4  0743269519       675,584  $17.95  \n",
       "5  0316346624       623,070   $9.99  \n",
       "6  0307463745       207,543  $13.49  \n",
       "7  1591842808       293,751  $16.19  \n",
       "8  0062273205       151,511  $14.99  "
      ]
     },
     "execution_count": 341,
     "metadata": {},
     "output_type": "execute_result"
    }
   ],
   "source": [
    "df = pd.DataFrame(list(zip(title, author, rating, num_rating, num_reviews, description, num_pages, book_cover_url, ISBN, num_to_read, amazon_price)),\n",
    "                  columns = ['Title', 'Author','Rating', 'Number of Ratings', 'Number of Reviews', 'Description', 'Number of pages', 'Cover URL', 'ISBN', 'To Read count', 'Price'])\n",
    "\n",
    "df\n",
    "\n"
   ]
  },
  {
   "cell_type": "code",
   "execution_count": 156,
   "metadata": {},
   "outputs": [],
   "source": [
    "driver.get('https://www.goodreads.com/shelf/show/business')"
   ]
  },
  {
   "cell_type": "code",
   "execution_count": 157,
   "metadata": {},
   "outputs": [],
   "source": [
    "html = driver.page_source     \n",
    "soup = bs.BeautifulSoup(html, 'html.parser')"
   ]
  },
  {
   "cell_type": "code",
   "execution_count": 158,
   "metadata": {},
   "outputs": [],
   "source": [
    "book_urls = [str('https://www.goodreads.com') + str(i['href'] + str('?ref=bk_bet_out')) \n",
    "             for i in soup.find_all('a', class_ = 'bookTitle')]\n",
    "\n",
    "book_urls[0]\n",
    "\n",
    "driver.get(book_urls[2])\n"
   ]
  },
  {
   "cell_type": "code",
   "execution_count": 159,
   "metadata": {},
   "outputs": [],
   "source": [
    "html = driver.page_source\n",
    "soup = bs.BeautifulSoup(html, 'html.parser')"
   ]
  },
  {
   "cell_type": "code",
   "execution_count": 173,
   "metadata": {},
   "outputs": [
    {
     "data": {
      "text/plain": [
       "['How to Win Friends and Influence People']"
      ]
     },
     "execution_count": 173,
     "metadata": {},
     "output_type": "execute_result"
    }
   ],
   "source": [
    "title.append(soup.find('h1', id = 'bookTitle').get_text().strip())\n",
    "title"
   ]
  },
  {
   "cell_type": "code",
   "execution_count": 174,
   "metadata": {},
   "outputs": [
    {
     "data": {
      "text/plain": [
       "['Dale Carnegie|ریحانه جعفری|پروین قائمی']"
      ]
     },
     "execution_count": 174,
     "metadata": {},
     "output_type": "execute_result"
    }
   ],
   "source": [
    "auth_html = soup.find('div', id = 'bookAuthors')\n",
    "\n",
    "author.append('|'. join([i.get_text() \n",
    "                         for i in auth_html.find_all('a', class_ = 'authorName')]))\n",
    "\n",
    "author\n"
   ]
  },
  {
   "cell_type": "code",
   "execution_count": 175,
   "metadata": {},
   "outputs": [
    {
     "data": {
      "text/plain": [
       "['4.21']"
      ]
     },
     "execution_count": 175,
     "metadata": {},
     "output_type": "execute_result"
    }
   ],
   "source": [
    "rating.append(soup.find('span', itemprop = 'ratingValue').get_text().strip())\n",
    "rating"
   ]
  },
  {
   "cell_type": "code",
   "execution_count": 176,
   "metadata": {},
   "outputs": [
    {
     "data": {
      "text/plain": [
       "['751276']"
      ]
     },
     "execution_count": 176,
     "metadata": {},
     "output_type": "execute_result"
    }
   ],
   "source": [
    "num_rating.append(soup.find('meta', itemprop = 'ratingCount')['content'])\n",
    "num_rating"
   ]
  },
  {
   "cell_type": "code",
   "execution_count": 177,
   "metadata": {},
   "outputs": [
    {
     "data": {
      "text/plain": [
       "['18513']"
      ]
     },
     "execution_count": 177,
     "metadata": {},
     "output_type": "execute_result"
    }
   ],
   "source": [
    "num_reviews.append(soup.find('meta', itemprop = 'reviewCount')['content'])\n",
    "num_reviews"
   ]
  },
  {
   "cell_type": "code",
   "execution_count": 180,
   "metadata": {
    "scrolled": true
   },
   "outputs": [
    {
     "data": {
      "text/plain": [
       "[\"\\nISBN 9780671723651 moved to this edition.You can go after the job you want...and get it! You can take the job you have...and improve it! You can take any situation you're in...and make it work for you!Since its release in 1936, How to Win Friends and Influence People has sold more than 15 million copies. Dale Carnegie's first book is a timeless bestseller, packed with rock\\nISBN 9780671723651 moved to this edition.You can go after the job you want...and get it! You can take the job you have...and improve it! You can take any situation you're in...and make it work for you!Since its release in 1936, How to Win Friends and Influence People has sold more than 15 million copies. Dale Carnegie's first book is a timeless bestseller, packed with rock-solid advice that has carried thousands of now famous people up the ladder of success in their business and personal lives.As relevant as ever before, Dale Carnegie's principles endure, and will help you achieve your maximum potential in the complex and competitive modern age.Learn the six ways to make people like you, the twelve ways to win people to your way of thinking, and the nine ways to change people without arousing resentment.\\n...more\\n\"]"
      ]
     },
     "execution_count": 180,
     "metadata": {},
     "output_type": "execute_result"
    }
   ],
   "source": [
    "description.append(soup.find_all('div', id = 'description')[0].get_text())\n",
    "description"
   ]
  },
  {
   "cell_type": "code",
   "execution_count": 181,
   "metadata": {},
   "outputs": [
    {
     "data": {
      "text/plain": [
       "['288']"
      ]
     },
     "execution_count": 181,
     "metadata": {},
     "output_type": "execute_result"
    }
   ],
   "source": [
    "num_pages.append(soup.find('span', itemprop = 'numberOfPages').get_text().replace('pages','').strip())\n",
    "num_pages"
   ]
  },
  {
   "cell_type": "code",
   "execution_count": 225,
   "metadata": {},
   "outputs": [
    {
     "data": {
      "text/plain": [
       "[None, '0316346624']"
      ]
     },
     "execution_count": 225,
     "metadata": {},
     "output_type": "execute_result"
    }
   ],
   "source": [
    "ISBN_val = soup.find('div', id = 'bookDataBox').find_all('div', class_ = 'infoBoxRowItem')[1].get_text().strip().split()[0]\n",
    "\n",
    "if ISBN_val.isdigit():\n",
    "    ISBN.append(ISBN_val)\n",
    "else:\n",
    "    ISBN.append(None)\n",
    "    \n",
    "ISBN"
   ]
  },
  {
   "cell_type": "code",
   "execution_count": 188,
   "metadata": {},
   "outputs": [],
   "source": [
    "shelves_url = str('https://www.goodreads.com') + str(soup.find(text = 'See top shelves…').parent['href'])\n",
    "driver.get(shelves_url)\n"
   ]
  },
  {
   "cell_type": "code",
   "execution_count": 189,
   "metadata": {},
   "outputs": [
    {
     "data": {
      "text/plain": [
       "['825,594']"
      ]
     },
     "execution_count": 189,
     "metadata": {},
     "output_type": "execute_result"
    }
   ],
   "source": [
    "html = driver.page_source\n",
    "soup = bs.BeautifulSoup(html, 'html.parser')\n",
    "\n",
    "num_to_read.append(soup.find(text = 'to-read').parent.parent.parent.get_text().strip().split()[1])\n",
    "\n",
    "num_to_read"
   ]
  },
  {
   "cell_type": "code",
   "execution_count": 250,
   "metadata": {},
   "outputs": [],
   "source": [
    "driver.get(book_urls[2])"
   ]
  },
  {
   "cell_type": "code",
   "execution_count": 251,
   "metadata": {},
   "outputs": [],
   "source": [
    "html = driver.page_source\n",
    "soup = bs.BeautifulSoup(html, 'html.parser')"
   ]
  },
  {
   "cell_type": "code",
   "execution_count": 252,
   "metadata": {},
   "outputs": [],
   "source": [
    "amazon_url = str('https://www.goodreads.com') + str(soup.find(text = 'Amazon').parent['href'])\n",
    "driver.get(amazon_url)\n",
    "\n"
   ]
  },
  {
   "cell_type": "code",
   "execution_count": 253,
   "metadata": {},
   "outputs": [],
   "source": [
    "html = driver.page_source\n",
    "soup = bs.BeautifulSoup(html, 'html.parser')"
   ]
  },
  {
   "cell_type": "code",
   "execution_count": 257,
   "metadata": {},
   "outputs": [],
   "source": [
    "val1 = None\n",
    "val2 = None\n",
    "\n",
    "try:\n",
    "    val1 = soup.find_all(text = \"Paperback\")[0].find_next().find('span', class_ = 'a-price').find('span', class_ = 'a-offscreen').get_text()\n",
    "except:\n",
    "    val2 = soup.find('span', class_ = 'a-price a-text-price header-price a-size-base a-text-normal').find_all('span')[0].get_text()\n",
    "\n",
    "val2"
   ]
  },
  {
   "cell_type": "code",
   "execution_count": 237,
   "metadata": {},
   "outputs": [
    {
     "data": {
      "text/plain": [
       "'$9.99'"
      ]
     },
     "execution_count": 237,
     "metadata": {},
     "output_type": "execute_result"
    }
   ],
   "source": [
    "\n"
   ]
  },
  {
   "cell_type": "code",
   "execution_count": 144,
   "metadata": {},
   "outputs": [],
   "source": [
    "book_cover_url.append(soup.find('img', id = 'coverImage')['src'])"
   ]
  },
  {
   "cell_type": "code",
   "execution_count": 141,
   "metadata": {},
   "outputs": [
    {
     "data": {
      "text/plain": [
       "'https://i.gr-assets.com/images/S/compressed.photo.goodreads.com/books/1442957271l/368593._SY475_.jpg'"
      ]
     },
     "execution_count": 141,
     "metadata": {},
     "output_type": "execute_result"
    }
   ],
   "source": []
  },
  {
   "cell_type": "code",
   "execution_count": 145,
   "metadata": {},
   "outputs": [],
   "source": [
    "driver.quit()"
   ]
  },
  {
   "cell_type": "code",
   "execution_count": 224,
   "metadata": {},
   "outputs": [
    {
     "data": {
      "text/plain": [
       "[None]"
      ]
     },
     "execution_count": 224,
     "metadata": {},
     "output_type": "execute_result"
    }
   ],
   "source": [
    "ISBN"
   ]
  },
  {
   "cell_type": "code",
   "execution_count": null,
   "metadata": {},
   "outputs": [],
   "source": []
  },
  {
   "cell_type": "code",
   "execution_count": null,
   "metadata": {},
   "outputs": [],
   "source": []
  },
  {
   "cell_type": "code",
   "execution_count": null,
   "metadata": {},
   "outputs": [],
   "source": []
  }
 ],
 "metadata": {
  "kernelspec": {
   "display_name": "Python 3",
   "language": "python",
   "name": "python3"
  },
  "language_info": {
   "codemirror_mode": {
    "name": "ipython",
    "version": 3
   },
   "file_extension": ".py",
   "mimetype": "text/x-python",
   "name": "python",
   "nbconvert_exporter": "python",
   "pygments_lexer": "ipython3",
   "version": "3.7.6"
  }
 },
 "nbformat": 4,
 "nbformat_minor": 4
}
